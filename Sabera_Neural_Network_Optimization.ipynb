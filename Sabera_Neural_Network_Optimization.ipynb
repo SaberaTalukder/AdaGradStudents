{
 "cells": [
  {
   "cell_type": "markdown",
   "metadata": {},
   "source": [
    "* The temporal order is scrambled in the test data making TS useless there.\n",
    "* Still, just for learning / realism, we can still do it in the training data! \n",
    "* Let's add pseudo dates, and aggregate features on column subsets. Finally i'll run a model to predict the target!"
   ]
  },
  {
   "cell_type": "code",
   "execution_count": null,
   "metadata": {
    "_cell_guid": "b1076dfc-b9ad-4769-8c92-a6c4dae69d19",
    "_uuid": "8f2839f25d086af736a60e9eeb907d3b93b6e0e5"
   },
   "outputs": [],
   "source": [
    "import importlib\n",
    "import numpy as np # linear algebra\n",
    "import pandas as pd # data processing, CSV file I/O (e.g. pd.read_csv)\n",
    "\n",
    "import os\n",
    "# Temporary for not Kaggle data partitioning\n",
    "for dirname, _, filenames in os.walk('/kaggle/input'):\n",
    "    for filename in filenames:\n",
    "        print(os.path.join(dirname, filename))\n",
    "        \n",
    "from datetime import datetime\n",
    "from scipy.special import logsumexp\n",
    "\n",
    "from catboost import Pool, cv, CatBoostClassifier, CatBoostRegressor\n",
    "from sklearn.metrics import mean_squared_error, classification_report"
   ]
  },
  {
   "cell_type": "code",
   "execution_count": null,
   "metadata": {
    "_cell_guid": "79c7e3d0-c299-4dcb-8224-4455121ee9b0",
    "_uuid": "d629ff2d2480ee46fbb7e2d37f6b5fab8052498a"
   },
   "outputs": [],
   "source": [
    "train = pd.read_csv(\"caltech-cs155-2020/train.csv\")\n",
    "test = pd.read_csv(\"caltech-cs155-2020/test.csv\")\n",
    "df = pd.concat([train,test],sort=False)\n",
    "print(df.shape)\n",
    "print(df.columns)\n",
    "df.tail()"
   ]
  },
  {
   "cell_type": "code",
   "execution_count": null,
   "metadata": {},
   "outputs": [],
   "source": [
    "train.head()"
   ]
  },
  {
   "cell_type": "code",
   "execution_count": null,
   "metadata": {},
   "outputs": [],
   "source": [
    "test.head()"
   ]
  },
  {
   "cell_type": "code",
   "execution_count": 5,
   "metadata": {},
   "outputs": [
    {
     "data": {
      "text/plain": [
       "count    592380.000000\n",
       "mean          0.356958\n",
       "std           0.479103\n",
       "min           0.000000\n",
       "25%           0.000000\n",
       "50%           0.000000\n",
       "75%           1.000000\n",
       "max           1.000000\n",
       "Name: y, dtype: float64"
      ]
     },
     "metadata": {},
     "output_type": "display_data"
    }
   ],
   "source": [
    "## y is binary.\n",
    "display(train[\"y\"].describe())"
   ]
  },
  {
   "cell_type": "code",
   "execution_count": 6,
   "metadata": {},
   "outputs": [],
   "source": [
    "bid_cols = ['bid1','bid2', 'bid3', 'bid4', 'bid5']\n",
    "bid_vol_cols = ['bid1vol', 'bid2vol', 'bid3vol', 'bid4vol', 'bid5vol']\n",
    "ask_cols = ['ask1', 'ask2', 'ask3', 'ask4', 'ask5',]\n",
    "ask_vol_cols = ['ask1vol','ask2vol', 'ask3vol', 'ask4vol', 'ask5vol']\n",
    "\n",
    "group_cols = {\"bid_cols\":bid_cols,\"bid_vol_cols\":bid_vol_cols,\"ask_cols\":ask_cols,\"ask_vol_cols\":ask_vol_cols}"
   ]
  },
  {
   "cell_type": "markdown",
   "metadata": {},
   "source": [
    "* Additional features could include: rank, which bid number is the max/min, etc' \n",
    "* features between the aggregated features (e.g. max bid div max ask..)"
   ]
  },
  {
   "cell_type": "code",
   "execution_count": 7,
   "metadata": {},
   "outputs": [
    {
     "name": "stdout",
     "output_type": "stream",
     "text": [
      "bid_cols\n",
      "bid_vol_cols\n",
      "ask_cols\n",
      "ask_vol_cols\n"
     ]
    }
   ],
   "source": [
    "for group in group_cols.keys():\n",
    "    print(group)\n",
    "    df[f\"{group}_max\"] = df[group_cols[group]].max(axis=1)\n",
    "    df[f\"{group}_min\"] = df[group_cols[group]].min(axis=1)\n",
    "    df[f\"{group}_spread\"] = df[f\"{group}_max\"].div(df[f\"{group}_min\"])\n",
    "#     df[f\"{group}_logsumexp\"] = df[grou/_cols[group]].apply(logsumexp)\n",
    "    \n",
    "    df[f\"{group}_max\"] = df[group_cols[group]].max(axis=1)\n",
    "    \n",
    "df[\"last_price_div__mid\"] = df[\"last_price\"].div(df[\"mid\"])"
   ]
  },
  {
   "cell_type": "code",
   "execution_count": 8,
   "metadata": {},
   "outputs": [
    {
     "data": {
      "text/plain": [
       "count                         784239\n",
       "unique                        784239\n",
       "top       2019-01-02 14:21:54.500000\n",
       "freq                               1\n",
       "first            2019-01-01 00:00:00\n",
       "last             2019-01-05 12:55:19\n",
       "Name: date, dtype: object"
      ]
     },
     "execution_count": 8,
     "metadata": {},
     "output_type": "execute_result"
    }
   ],
   "source": [
    "df[\"date\"] = pd.to_datetime(\"1.1.2019\")\n",
    "df[\"date\"] = df[\"date\"] + pd.to_timedelta(df[\"id\"]/2,unit=\"s\") # 500 ms per row\n",
    "\n",
    "df[\"date\"].describe()"
   ]
  },
  {
   "cell_type": "markdown",
   "metadata": {},
   "source": [
    "# Split back into train and test, and build model"
   ]
  },
  {
   "cell_type": "code",
   "execution_count": 9,
   "metadata": {},
   "outputs": [
    {
     "name": "stdout",
     "output_type": "stream",
     "text": [
      "train shape 592380\n",
      "test shape 191859\n"
     ]
    }
   ],
   "source": [
    "train = df.loc[~df.y.isna()]\n",
    "print(f\"train shape {train.shape[0]}\")\n",
    "test = df.loc[df.y.isna()]\n",
    "print(f\"test shape {test.shape[0]}\")"
   ]
  },
  {
   "cell_type": "code",
   "execution_count": 10,
   "metadata": {},
   "outputs": [],
   "source": [
    "train_no_nan = train.fillna(train.mean())\n",
    "test_no_nan = test.fillna(test.mean())"
   ]
  },
  {
   "cell_type": "code",
   "execution_count": 11,
   "metadata": {},
   "outputs": [
    {
     "data": {
      "text/html": [
       "<div>\n",
       "<style scoped>\n",
       "    .dataframe tbody tr th:only-of-type {\n",
       "        vertical-align: middle;\n",
       "    }\n",
       "\n",
       "    .dataframe tbody tr th {\n",
       "        vertical-align: top;\n",
       "    }\n",
       "\n",
       "    .dataframe thead th {\n",
       "        text-align: right;\n",
       "    }\n",
       "</style>\n",
       "<table border=\"1\" class=\"dataframe\">\n",
       "  <thead>\n",
       "    <tr style=\"text-align: right;\">\n",
       "      <th></th>\n",
       "      <th>id</th>\n",
       "      <th>last_price</th>\n",
       "      <th>mid</th>\n",
       "      <th>opened_position_qty</th>\n",
       "      <th>closed_position_qty</th>\n",
       "      <th>transacted_qty</th>\n",
       "      <th>d_open_interest</th>\n",
       "      <th>bid1</th>\n",
       "      <th>bid2</th>\n",
       "      <th>bid3</th>\n",
       "      <th>...</th>\n",
       "      <th>bid_vol_cols_min</th>\n",
       "      <th>bid_vol_cols_spread</th>\n",
       "      <th>ask_cols_max</th>\n",
       "      <th>ask_cols_min</th>\n",
       "      <th>ask_cols_spread</th>\n",
       "      <th>ask_vol_cols_max</th>\n",
       "      <th>ask_vol_cols_min</th>\n",
       "      <th>ask_vol_cols_spread</th>\n",
       "      <th>last_price_div__mid</th>\n",
       "      <th>date</th>\n",
       "    </tr>\n",
       "  </thead>\n",
       "  <tbody>\n",
       "    <tr>\n",
       "      <th>0</th>\n",
       "      <td>False</td>\n",
       "      <td>False</td>\n",
       "      <td>False</td>\n",
       "      <td>False</td>\n",
       "      <td>False</td>\n",
       "      <td>False</td>\n",
       "      <td>False</td>\n",
       "      <td>False</td>\n",
       "      <td>False</td>\n",
       "      <td>False</td>\n",
       "      <td>...</td>\n",
       "      <td>False</td>\n",
       "      <td>False</td>\n",
       "      <td>False</td>\n",
       "      <td>False</td>\n",
       "      <td>False</td>\n",
       "      <td>False</td>\n",
       "      <td>False</td>\n",
       "      <td>False</td>\n",
       "      <td>False</td>\n",
       "      <td>False</td>\n",
       "    </tr>\n",
       "    <tr>\n",
       "      <th>1</th>\n",
       "      <td>False</td>\n",
       "      <td>False</td>\n",
       "      <td>False</td>\n",
       "      <td>False</td>\n",
       "      <td>False</td>\n",
       "      <td>False</td>\n",
       "      <td>False</td>\n",
       "      <td>False</td>\n",
       "      <td>False</td>\n",
       "      <td>False</td>\n",
       "      <td>...</td>\n",
       "      <td>False</td>\n",
       "      <td>False</td>\n",
       "      <td>False</td>\n",
       "      <td>False</td>\n",
       "      <td>False</td>\n",
       "      <td>False</td>\n",
       "      <td>False</td>\n",
       "      <td>False</td>\n",
       "      <td>False</td>\n",
       "      <td>False</td>\n",
       "    </tr>\n",
       "    <tr>\n",
       "      <th>2</th>\n",
       "      <td>False</td>\n",
       "      <td>False</td>\n",
       "      <td>False</td>\n",
       "      <td>False</td>\n",
       "      <td>False</td>\n",
       "      <td>False</td>\n",
       "      <td>False</td>\n",
       "      <td>False</td>\n",
       "      <td>False</td>\n",
       "      <td>False</td>\n",
       "      <td>...</td>\n",
       "      <td>False</td>\n",
       "      <td>False</td>\n",
       "      <td>False</td>\n",
       "      <td>False</td>\n",
       "      <td>False</td>\n",
       "      <td>False</td>\n",
       "      <td>False</td>\n",
       "      <td>False</td>\n",
       "      <td>False</td>\n",
       "      <td>False</td>\n",
       "    </tr>\n",
       "    <tr>\n",
       "      <th>3</th>\n",
       "      <td>False</td>\n",
       "      <td>False</td>\n",
       "      <td>False</td>\n",
       "      <td>False</td>\n",
       "      <td>False</td>\n",
       "      <td>False</td>\n",
       "      <td>False</td>\n",
       "      <td>False</td>\n",
       "      <td>False</td>\n",
       "      <td>False</td>\n",
       "      <td>...</td>\n",
       "      <td>False</td>\n",
       "      <td>False</td>\n",
       "      <td>False</td>\n",
       "      <td>False</td>\n",
       "      <td>False</td>\n",
       "      <td>False</td>\n",
       "      <td>False</td>\n",
       "      <td>False</td>\n",
       "      <td>False</td>\n",
       "      <td>False</td>\n",
       "    </tr>\n",
       "    <tr>\n",
       "      <th>4</th>\n",
       "      <td>False</td>\n",
       "      <td>False</td>\n",
       "      <td>False</td>\n",
       "      <td>False</td>\n",
       "      <td>False</td>\n",
       "      <td>False</td>\n",
       "      <td>False</td>\n",
       "      <td>False</td>\n",
       "      <td>False</td>\n",
       "      <td>False</td>\n",
       "      <td>...</td>\n",
       "      <td>False</td>\n",
       "      <td>False</td>\n",
       "      <td>False</td>\n",
       "      <td>False</td>\n",
       "      <td>False</td>\n",
       "      <td>False</td>\n",
       "      <td>False</td>\n",
       "      <td>False</td>\n",
       "      <td>False</td>\n",
       "      <td>False</td>\n",
       "    </tr>\n",
       "    <tr>\n",
       "      <th>...</th>\n",
       "      <td>...</td>\n",
       "      <td>...</td>\n",
       "      <td>...</td>\n",
       "      <td>...</td>\n",
       "      <td>...</td>\n",
       "      <td>...</td>\n",
       "      <td>...</td>\n",
       "      <td>...</td>\n",
       "      <td>...</td>\n",
       "      <td>...</td>\n",
       "      <td>...</td>\n",
       "      <td>...</td>\n",
       "      <td>...</td>\n",
       "      <td>...</td>\n",
       "      <td>...</td>\n",
       "      <td>...</td>\n",
       "      <td>...</td>\n",
       "      <td>...</td>\n",
       "      <td>...</td>\n",
       "      <td>...</td>\n",
       "      <td>...</td>\n",
       "    </tr>\n",
       "    <tr>\n",
       "      <th>592375</th>\n",
       "      <td>False</td>\n",
       "      <td>False</td>\n",
       "      <td>False</td>\n",
       "      <td>False</td>\n",
       "      <td>False</td>\n",
       "      <td>False</td>\n",
       "      <td>False</td>\n",
       "      <td>False</td>\n",
       "      <td>False</td>\n",
       "      <td>False</td>\n",
       "      <td>...</td>\n",
       "      <td>False</td>\n",
       "      <td>False</td>\n",
       "      <td>False</td>\n",
       "      <td>False</td>\n",
       "      <td>False</td>\n",
       "      <td>False</td>\n",
       "      <td>False</td>\n",
       "      <td>False</td>\n",
       "      <td>False</td>\n",
       "      <td>False</td>\n",
       "    </tr>\n",
       "    <tr>\n",
       "      <th>592376</th>\n",
       "      <td>False</td>\n",
       "      <td>False</td>\n",
       "      <td>False</td>\n",
       "      <td>False</td>\n",
       "      <td>False</td>\n",
       "      <td>False</td>\n",
       "      <td>False</td>\n",
       "      <td>False</td>\n",
       "      <td>False</td>\n",
       "      <td>False</td>\n",
       "      <td>...</td>\n",
       "      <td>False</td>\n",
       "      <td>False</td>\n",
       "      <td>False</td>\n",
       "      <td>False</td>\n",
       "      <td>False</td>\n",
       "      <td>False</td>\n",
       "      <td>False</td>\n",
       "      <td>False</td>\n",
       "      <td>False</td>\n",
       "      <td>False</td>\n",
       "    </tr>\n",
       "    <tr>\n",
       "      <th>592377</th>\n",
       "      <td>False</td>\n",
       "      <td>False</td>\n",
       "      <td>False</td>\n",
       "      <td>False</td>\n",
       "      <td>False</td>\n",
       "      <td>False</td>\n",
       "      <td>False</td>\n",
       "      <td>False</td>\n",
       "      <td>False</td>\n",
       "      <td>False</td>\n",
       "      <td>...</td>\n",
       "      <td>False</td>\n",
       "      <td>False</td>\n",
       "      <td>False</td>\n",
       "      <td>False</td>\n",
       "      <td>False</td>\n",
       "      <td>False</td>\n",
       "      <td>False</td>\n",
       "      <td>False</td>\n",
       "      <td>False</td>\n",
       "      <td>False</td>\n",
       "    </tr>\n",
       "    <tr>\n",
       "      <th>592378</th>\n",
       "      <td>False</td>\n",
       "      <td>False</td>\n",
       "      <td>False</td>\n",
       "      <td>False</td>\n",
       "      <td>False</td>\n",
       "      <td>False</td>\n",
       "      <td>False</td>\n",
       "      <td>False</td>\n",
       "      <td>False</td>\n",
       "      <td>False</td>\n",
       "      <td>...</td>\n",
       "      <td>False</td>\n",
       "      <td>False</td>\n",
       "      <td>False</td>\n",
       "      <td>False</td>\n",
       "      <td>False</td>\n",
       "      <td>False</td>\n",
       "      <td>False</td>\n",
       "      <td>False</td>\n",
       "      <td>False</td>\n",
       "      <td>False</td>\n",
       "    </tr>\n",
       "    <tr>\n",
       "      <th>592379</th>\n",
       "      <td>False</td>\n",
       "      <td>False</td>\n",
       "      <td>False</td>\n",
       "      <td>False</td>\n",
       "      <td>False</td>\n",
       "      <td>False</td>\n",
       "      <td>False</td>\n",
       "      <td>False</td>\n",
       "      <td>False</td>\n",
       "      <td>False</td>\n",
       "      <td>...</td>\n",
       "      <td>False</td>\n",
       "      <td>False</td>\n",
       "      <td>False</td>\n",
       "      <td>False</td>\n",
       "      <td>False</td>\n",
       "      <td>False</td>\n",
       "      <td>False</td>\n",
       "      <td>False</td>\n",
       "      <td>False</td>\n",
       "      <td>False</td>\n",
       "    </tr>\n",
       "  </tbody>\n",
       "</table>\n",
       "<p>592380 rows × 42 columns</p>\n",
       "</div>"
      ],
      "text/plain": [
       "           id  last_price    mid  opened_position_qty   closed_position_qty  \\\n",
       "0       False       False  False                 False                False   \n",
       "1       False       False  False                 False                False   \n",
       "2       False       False  False                 False                False   \n",
       "3       False       False  False                 False                False   \n",
       "4       False       False  False                 False                False   \n",
       "...       ...         ...    ...                   ...                  ...   \n",
       "592375  False       False  False                 False                False   \n",
       "592376  False       False  False                 False                False   \n",
       "592377  False       False  False                 False                False   \n",
       "592378  False       False  False                 False                False   \n",
       "592379  False       False  False                 False                False   \n",
       "\n",
       "        transacted_qty  d_open_interest   bid1   bid2   bid3  ...  \\\n",
       "0                False            False  False  False  False  ...   \n",
       "1                False            False  False  False  False  ...   \n",
       "2                False            False  False  False  False  ...   \n",
       "3                False            False  False  False  False  ...   \n",
       "4                False            False  False  False  False  ...   \n",
       "...                ...              ...    ...    ...    ...  ...   \n",
       "592375           False            False  False  False  False  ...   \n",
       "592376           False            False  False  False  False  ...   \n",
       "592377           False            False  False  False  False  ...   \n",
       "592378           False            False  False  False  False  ...   \n",
       "592379           False            False  False  False  False  ...   \n",
       "\n",
       "        bid_vol_cols_min  bid_vol_cols_spread  ask_cols_max  ask_cols_min  \\\n",
       "0                  False                False         False         False   \n",
       "1                  False                False         False         False   \n",
       "2                  False                False         False         False   \n",
       "3                  False                False         False         False   \n",
       "4                  False                False         False         False   \n",
       "...                  ...                  ...           ...           ...   \n",
       "592375             False                False         False         False   \n",
       "592376             False                False         False         False   \n",
       "592377             False                False         False         False   \n",
       "592378             False                False         False         False   \n",
       "592379             False                False         False         False   \n",
       "\n",
       "        ask_cols_spread  ask_vol_cols_max  ask_vol_cols_min  \\\n",
       "0                 False             False             False   \n",
       "1                 False             False             False   \n",
       "2                 False             False             False   \n",
       "3                 False             False             False   \n",
       "4                 False             False             False   \n",
       "...                 ...               ...               ...   \n",
       "592375            False             False             False   \n",
       "592376            False             False             False   \n",
       "592377            False             False             False   \n",
       "592378            False             False             False   \n",
       "592379            False             False             False   \n",
       "\n",
       "        ask_vol_cols_spread  last_price_div__mid   date  \n",
       "0                     False                False  False  \n",
       "1                     False                False  False  \n",
       "2                     False                False  False  \n",
       "3                     False                False  False  \n",
       "4                     False                False  False  \n",
       "...                     ...                  ...    ...  \n",
       "592375                False                False  False  \n",
       "592376                False                False  False  \n",
       "592377                False                False  False  \n",
       "592378                False                False  False  \n",
       "592379                False                False  False  \n",
       "\n",
       "[592380 rows x 42 columns]"
      ]
     },
     "execution_count": 11,
     "metadata": {},
     "output_type": "execute_result"
    }
   ],
   "source": [
    "train_no_nan.isna()"
   ]
  },
  {
   "cell_type": "code",
   "execution_count": 12,
   "metadata": {},
   "outputs": [],
   "source": [
    "train.drop([\"id\"],axis=1).to_csv(\"train_hft.csv.gz\",index=False,compression=\"gzip\")\n",
    "test.to_csv(\"test_hft_nodates.csv.gz\",index=False,compression=\"gzip\")"
   ]
  },
  {
   "cell_type": "code",
   "execution_count": 13,
   "metadata": {},
   "outputs": [],
   "source": [
    "# we don't know if the test set has a temporal split, so we'll just try a random split for now\n",
    "X = train_no_nan.drop([\"id\",\"date\",\"y\"],axis=1)\n",
    "y = train_no_nan[\"y\"]"
   ]
  },
  {
   "cell_type": "code",
   "execution_count": 14,
   "metadata": {},
   "outputs": [
    {
     "name": "stdout",
     "output_type": "stream",
     "text": [
      "(592380, 39)\n",
      "last_price              True\n",
      "mid                     True\n",
      "opened_position_qty     True\n",
      "closed_position_qty     True\n",
      "transacted_qty          True\n",
      "d_open_interest         True\n",
      "bid1                    True\n",
      "bid2                    True\n",
      "bid3                    True\n",
      "bid4                    True\n",
      "bid5                    True\n",
      "ask1                    True\n",
      "ask2                    True\n",
      "ask3                    True\n",
      "ask4                    True\n",
      "ask5                    True\n",
      "bid1vol                 True\n",
      "bid2vol                 True\n",
      "bid3vol                 True\n",
      "bid4vol                 True\n",
      "bid5vol                 True\n",
      "ask1vol                 True\n",
      "ask2vol                 True\n",
      "ask3vol                 True\n",
      "ask4vol                 True\n",
      "ask5vol                 True\n",
      "bid_cols_max            True\n",
      "bid_cols_min            True\n",
      "bid_cols_spread         True\n",
      "bid_vol_cols_max        True\n",
      "bid_vol_cols_min        True\n",
      "bid_vol_cols_spread     True\n",
      "ask_cols_max            True\n",
      "ask_cols_min            True\n",
      "ask_cols_spread         True\n",
      "ask_vol_cols_max        True\n",
      "ask_vol_cols_min        True\n",
      "ask_vol_cols_spread     True\n",
      "last_price_div__mid     True\n",
      "dtype: bool\n"
     ]
    }
   ],
   "source": [
    "print(X.shape)\n",
    "print(np.isfinite(X).all())"
   ]
  },
  {
   "cell_type": "markdown",
   "metadata": {},
   "source": [
    "# For Random Forest Model"
   ]
  },
  {
   "cell_type": "code",
   "execution_count": null,
   "metadata": {},
   "outputs": [],
   "source": [
    "#model = CatBoostClassifier()\n",
    "from sklearn.ensemble import RandomForestClassifier\n",
    "import randomforestorder\n",
    "importlib.reload(randomforestorder)\n",
    "model = randomforestorder.RandomForestOrder()\n",
    "model.fit(X,y)"
   ]
  },
  {
   "cell_type": "markdown",
   "metadata": {},
   "source": [
    "# For Neural Network Model 1"
   ]
  },
  {
   "cell_type": "code",
   "execution_count": 15,
   "metadata": {},
   "outputs": [],
   "source": [
    "#model = CatBoostClassifier()\n",
    "import torch\n",
    "import torch.nn as nn\n",
    "import first_neural_network\n",
    "importlib.reload(first_neural_network)\n",
    "model = first_neural_network.first_neural_network()\n",
    "# model.fit(X,y)"
   ]
  },
  {
   "cell_type": "code",
   "execution_count": null,
   "metadata": {},
   "outputs": [],
   "source": [
    "# print(X_temp.shape)"
   ]
  },
  {
   "cell_type": "code",
   "execution_count": null,
   "metadata": {},
   "outputs": [],
   "source": [
    "# from scipy import stats\n",
    "# X_temp = np.asarray(X)\n",
    "# print(stats.zscore(X_temp, axis=0))\n"
   ]
  },
  {
   "cell_type": "code",
   "execution_count": null,
   "metadata": {},
   "outputs": [],
   "source": [
    "# print(type(X))\n",
    "# print(type(y))\n",
    "# X_temp = np.asarray(X)\n",
    "# print((X_temp.shape))\n",
    "# print(np.std(X_temp, axis=0).shape)\n",
    "# print(np.mean(X_temp, axis=0).shape)\n",
    "# std_dev = np.std(X_temp, axis=0)\n",
    "# mean_val = np.mean(X_temp, axis=0)\n",
    "# z_score = X_temp"
   ]
  },
  {
   "cell_type": "markdown",
   "metadata": {},
   "source": [
    "# For Neural Network Model 2"
   ]
  },
  {
   "cell_type": "code",
   "execution_count": null,
   "metadata": {},
   "outputs": [],
   "source": [
    "#model = CatBoostClassifier()\n",
    "import second_neural_network\n",
    "importlib.reload(second_neural_network)\n",
    "model = second_neural_network.second_neural_network()\n",
    "model.fit(X,y)"
   ]
  },
  {
   "cell_type": "code",
   "execution_count": null,
   "metadata": {},
   "outputs": [],
   "source": [
    "from sklearn.metrics import log_loss\n",
    "\n",
    "y_pred = model.predict(train_no_nan.drop([\"id\",\"date\",\"y\"],axis=1))\n",
    "print(log_loss(y, y_pred))\n"
   ]
  },
  {
   "cell_type": "code",
   "execution_count": null,
   "metadata": {},
   "outputs": [],
   "source": [
    "print(type(y))\n",
    "print(type(y_pred))\n",
    "print(y.shape)\n",
    "print(y_pred.shape)"
   ]
  },
  {
   "cell_type": "code",
   "execution_count": null,
   "metadata": {},
   "outputs": [],
   "source": [
    "print(y_pred[0:100])\n",
    "print(y[0:100])"
   ]
  },
  {
   "cell_type": "code",
   "execution_count": null,
   "metadata": {},
   "outputs": [],
   "source": [
    "# print(np.sum(np.abs((y - y_pred))/y.shape[0])"
   ]
  },
  {
   "cell_type": "code",
   "execution_count": null,
   "metadata": {},
   "outputs": [],
   "source": [
    "# y_prob = model.predict(train_no_nan.drop([\"id\",\"date\",\"y\"],axis=1))"
   ]
  },
  {
   "cell_type": "code",
   "execution_count": null,
   "metadata": {},
   "outputs": [],
   "source": []
  },
  {
   "cell_type": "code",
   "execution_count": 16,
   "metadata": {
    "scrolled": true
   },
   "outputs": [
    {
     "name": "stdout",
     "output_type": "stream",
     "text": [
      "592380\n",
      "Fold  1  of  3  test indices: [     0      1      2 ... 197457 197458 197459]\n",
      "len(val_index_list):  197460\n",
      "x train tensor:  tensor([[-2.1965e+00, -2.1984e+00, -7.3214e-01,  ..., -5.4239e-01,\n",
      "         -2.0939e-01,  4.7410e-01],\n",
      "        [-2.1965e+00, -2.1965e+00, -2.1626e-01,  ...,  5.0589e-01,\n",
      "         -6.8383e-01, -3.0243e-03],\n",
      "        [-2.1928e+00, -2.1947e+00, -2.1626e-01,  ...,  5.0589e-01,\n",
      "         -6.8383e-01,  4.7407e-01],\n",
      "        ...,\n",
      "        [ 1.7876e+00,  1.8080e+00, -9.6102e-03,  ...,  1.5542e+00,\n",
      "         -7.5161e-01, -4.9756e+00],\n",
      "        [ 1.7876e+00,  1.8080e+00, -9.6102e-03,  ...,  1.5542e+00,\n",
      "         -7.5161e-01, -4.9756e+00],\n",
      "        [ 1.7876e+00,  1.8080e+00, -9.6102e-03,  ...,  1.5542e+00,\n",
      "         -7.5161e-01, -4.9756e+00]])\n",
      "y train tensor:  tensor([[1.],\n",
      "        [1.],\n",
      "        [0.],\n",
      "        ...,\n",
      "        [0.],\n",
      "        [0.],\n",
      "        [0.]])\n",
      "Train Epoch: 1  Loss: 0.6465\n",
      "Train Epoch: 2  Loss: 0.6636\n",
      "Train Epoch: 3  Loss: 0.5322\n",
      "Train Epoch: 4  Loss: 0.5760\n",
      "Train Epoch: 5  Loss: 0.5306\n",
      "Train Epoch: 6  Loss: 0.6731\n",
      "Train Epoch: 7  Loss: 0.6074\n",
      "Train Epoch: 8  Loss: 0.3897\n",
      "Train Epoch: 9  Loss: 0.6796\n",
      "Train Epoch: 10  Loss: 0.6371\n",
      "validation error:  0.6588403786487187\n",
      "Fold  2  of  3  test indices: [197460 197461 197462 ... 394917 394918 394919]\n",
      "len(val_index_list):  197460\n",
      "x train tensor:  tensor([[-1.2484, -1.2462, -0.0196,  ..., -0.5568,  0.2063, -0.9766],\n",
      "        [-1.2439, -1.2372,  2.3388,  ..., -0.5568,  0.6059, -2.9334],\n",
      "        [-1.2304, -1.2270,  2.8515,  ..., -0.5568,  1.0055, -1.4653],\n",
      "        ...,\n",
      "        [ 1.7568,  1.7692, -0.0196,  ...,  1.4314, -0.7262, -5.0300],\n",
      "        [ 1.7568,  1.7692, -0.0196,  ...,  1.4314, -0.7262, -5.0300],\n",
      "        [ 1.7568,  1.7692, -0.0196,  ...,  1.4314, -0.7262, -5.0300]])\n",
      "y train tensor:  tensor([[1.],\n",
      "        [0.],\n",
      "        [0.],\n",
      "        ...,\n",
      "        [0.],\n",
      "        [0.],\n",
      "        [0.]])\n",
      "Train Epoch: 1  Loss: 0.5044\n",
      "Train Epoch: 2  Loss: 0.9393\n",
      "Train Epoch: 3  Loss: 0.4062\n",
      "Train Epoch: 4  Loss: 0.8044\n",
      "Train Epoch: 5  Loss: 0.4680\n",
      "Train Epoch: 6  Loss: 0.6706\n",
      "Train Epoch: 7  Loss: 0.5307\n",
      "Train Epoch: 8  Loss: 0.6817\n",
      "Train Epoch: 9  Loss: 0.5003\n",
      "Train Epoch: 10  Loss: 0.5733\n",
      "validation error:  0.6637095942559035\n",
      "Fold  3  of  3  test indices: [394920 394921 394922 ... 592377 592378 592379]\n",
      "len(val_index_list):  197460\n",
      "x train tensor:  tensor([[-1.1733, -1.1707,  0.0312,  ..., -0.5747,  0.1779, -0.9769],\n",
      "        [-1.1680, -1.1600,  2.5554,  ..., -0.5747,  0.5687, -2.9193],\n",
      "        [-1.1521, -1.1481,  3.1042,  ..., -0.5747,  0.9595, -1.4620],\n",
      "        ...,\n",
      "        [ 1.5198,  1.5252, -0.1887,  ..., -0.5747, -0.4734, -1.8511],\n",
      "        [ 1.5198,  1.5225, -0.7375,  ..., -0.5747, -0.4734, -0.9283],\n",
      "        [ 1.5172,  1.5199, -0.7375,  ..., -0.5747, -0.4734, -0.9283]])\n",
      "y train tensor:  tensor([[1.],\n",
      "        [0.],\n",
      "        [0.],\n",
      "        ...,\n",
      "        [0.],\n",
      "        [0.],\n",
      "        [1.]])\n",
      "Train Epoch: 1  Loss: 0.6140\n",
      "Train Epoch: 2  Loss: 0.5208\n",
      "Train Epoch: 3  Loss: 0.6569\n",
      "Train Epoch: 4  Loss: 0.6494\n",
      "Train Epoch: 5  Loss: 0.5064\n",
      "Train Epoch: 6  Loss: 0.5678\n",
      "Train Epoch: 7  Loss: 0.4911\n",
      "Train Epoch: 8  Loss: 0.5241\n",
      "Train Epoch: 9  Loss: 0.5746\n",
      "Train Epoch: 10  Loss: 0.6226\n",
      "validation error:  0.6552230625678171\n",
      "(0.6592576784908131, 1.2090606261254913e-05, [0.6588403786487187, 0.6637095942559035, 0.6552230625678171])\n"
     ]
    }
   ],
   "source": [
    "import get_average_val_err\n",
    "\n",
    "importlib.reload(get_average_val_err)\n",
    "\n",
    "print(get_average_val_err.get_val_err(3, train_no_nan, model))"
   ]
  },
  {
   "cell_type": "code",
   "execution_count": null,
   "metadata": {},
   "outputs": [],
   "source": [
    "# model.fit(X,y)"
   ]
  },
  {
   "cell_type": "markdown",
   "metadata": {},
   "source": [
    "## export predictions"
   ]
  },
  {
   "cell_type": "code",
   "execution_count": 17,
   "metadata": {},
   "outputs": [
    {
     "name": "stderr",
     "output_type": "stream",
     "text": [
      "/Users/saberatalukder/miniconda3/envs/cs155/lib/python3.7/site-packages/ipykernel_launcher.py:2: SettingWithCopyWarning: \n",
      "A value is trying to be set on a copy of a slice from a DataFrame.\n",
      "Try using .loc[row_indexer,col_indexer] = value instead\n",
      "\n",
      "See the caveats in the documentation: https://pandas.pydata.org/pandas-docs/stable/user_guide/indexing.html#returning-a-view-versus-a-copy\n",
      "  \n"
     ]
    }
   ],
   "source": [
    "# test[\"Predicted\"] = model.predict(test.drop([\"id\",\"date\",\"y\"],axis=1),prediction_type='Probability')[:,1]\n",
    "test[\"Predicted\"] = model.predict(test_no_nan.drop([\"id\",\"date\",\"y\"],axis=1))\n",
    "test[[\"id\",\"Predicted\"]].to_csv(\"sabera_submission_10_epochs_more_layers_test.csv\",index=False)"
   ]
  },
  {
   "cell_type": "code",
   "execution_count": null,
   "metadata": {},
   "outputs": [],
   "source": []
  }
 ],
 "metadata": {
  "kernelspec": {
   "display_name": "Python 3",
   "language": "python",
   "name": "python3"
  },
  "language_info": {
   "codemirror_mode": {
    "name": "ipython",
    "version": 3
   },
   "file_extension": ".py",
   "mimetype": "text/x-python",
   "name": "python",
   "nbconvert_exporter": "python",
   "pygments_lexer": "ipython3",
   "version": "3.7.3"
  }
 },
 "nbformat": 4,
 "nbformat_minor": 4
}
