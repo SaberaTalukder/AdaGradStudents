{
 "cells": [
  {
   "cell_type": "markdown",
   "metadata": {},
   "source": [
    "* The temporal order is scrambled in the test data making TS useless there.\n",
    "* Still, just for learning / realism, we can still do it in the training data! \n",
    "* Let's add pseudo dates, and aggregate features on column subsets. Finally i'll run a model to predict the target!"
   ]
  },
  {
   "cell_type": "code",
   "execution_count": null,
   "metadata": {
    "_cell_guid": "b1076dfc-b9ad-4769-8c92-a6c4dae69d19",
    "_uuid": "8f2839f25d086af736a60e9eeb907d3b93b6e0e5"
   },
   "outputs": [],
   "source": [
    "import numpy as np # linear algebra\n",
    "import pandas as pd # data processing, CSV file I/O (e.g. pd.read_csv)\n",
    "\n",
    "import os\n",
    "for dirname, _, filenames in os.walk('/kaggle/input'):\n",
    "    for filename in filenames:\n",
    "        print(os.path.join(dirname, filename))\n",
    "        \n",
    "from datetime import datetime\n",
    "from scipy.special import logsumexp\n",
    "\n",
    "from catboost import Pool, cv, CatBoostClassifier, CatBoostRegressor\n",
    "from sklearn.metrics import mean_squared_error, classification_report"
   ]
  },
  {
   "cell_type": "code",
   "execution_count": null,
   "metadata": {
    "_cell_guid": "79c7e3d0-c299-4dcb-8224-4455121ee9b0",
    "_uuid": "d629ff2d2480ee46fbb7e2d37f6b5fab8052498a"
   },
   "outputs": [],
   "source": [
    "train = pd.read_csv(\"/kaggle/input/caltech-cs155-2020/train.csv\")\n",
    "test = pd.read_csv(\"/kaggle/input/caltech-cs155-2020/test.csv\")\n",
    "df = pd.concat([train,test],sort=False)\n",
    "print(df.shape)\n",
    "print(df.columns)\n",
    "df.tail()"
   ]
  },
  {
   "cell_type": "code",
   "execution_count": null,
   "metadata": {},
   "outputs": [],
   "source": [
    "train.head()"
   ]
  },
  {
   "cell_type": "code",
   "execution_count": null,
   "metadata": {},
   "outputs": [],
   "source": [
    "test.head()"
   ]
  },
  {
   "cell_type": "code",
   "execution_count": null,
   "metadata": {},
   "outputs": [],
   "source": [
    "## y is binary.\n",
    "display(train[\"y\"].describe())"
   ]
  },
  {
   "cell_type": "code",
   "execution_count": null,
   "metadata": {},
   "outputs": [],
   "source": [
    "bid_cols = ['bid1','bid2', 'bid3', 'bid4', 'bid5']\n",
    "bid_vol_cols = ['bid1vol', 'bid2vol', 'bid3vol', 'bid4vol', 'bid5vol']\n",
    "ask_cols = ['ask1', 'ask2', 'ask3', 'ask4', 'ask5',]\n",
    "ask_vol_cols = ['ask1vol','ask2vol', 'ask3vol', 'ask4vol', 'ask5vol']\n",
    "\n",
    "group_cols = {\"bid_cols\":bid_cols,\"bid_vol_cols\":bid_vol_cols,\"ask_cols\":ask_cols,\"ask_vol_cols\":ask_vol_cols}"
   ]
  },
  {
   "cell_type": "markdown",
   "metadata": {},
   "source": [
    "* Additional features could include: rank, which bid number is the max/min, etc' \n",
    "* features between the aggregated features (e.g. max bid div max ask..)"
   ]
  },
  {
   "cell_type": "code",
   "execution_count": null,
   "metadata": {},
   "outputs": [],
   "source": [
    "for group in group_cols.keys():\n",
    "    print(group)\n",
    "    df[f\"{group}_max\"] = df[group_cols[group]].max(axis=1)\n",
    "    df[f\"{group}_min\"] = df[group_cols[group]].min(axis=1)\n",
    "    df[f\"{group}_spread\"] = df[f\"{group}_max\"].div(df[f\"{group}_min\"])\n",
    "    df[f\"{group}_logsumexp\"] = df[group_cols[group]].apply(logsumexp)\n",
    "    \n",
    "    df[f\"{group}_max\"] = df[group_cols[group]].max(axis=1)\n",
    "    \n",
    "df[\"last_price_div__mid\"] = df[\"last_price\"].div(df[\"mid\"])"
   ]
  },
  {
   "cell_type": "code",
   "execution_count": null,
   "metadata": {},
   "outputs": [],
   "source": [
    "df[\"date\"] = pd.to_datetime(\"1.1.2019\")\n",
    "df[\"date\"] = df[\"date\"] + pd.to_timedelta(df[\"id\"]/2,unit=\"s\") # 500 ms per row\n",
    "\n",
    "df[\"date\"].describe()"
   ]
  },
  {
   "cell_type": "markdown",
   "metadata": {},
   "source": [
    "# Split back into train and test, and build model"
   ]
  },
  {
   "cell_type": "code",
   "execution_count": null,
   "metadata": {},
   "outputs": [],
   "source": [
    "train = df.loc[~df.y.isna()]\n",
    "print(f\"train shape {train.shape[0]}\")\n",
    "test = df.loc[df.y.isna()]\n",
    "print(f\"test shape {test.shape[0]}\")"
   ]
  },
  {
   "cell_type": "code",
   "execution_count": null,
   "metadata": {},
   "outputs": [],
   "source": [
    "train.drop([\"id\"],axis=1).to_csv(\"train_hft.csv.gz\",index=False,compression=\"gzip\")\n",
    "test.to_csv(\"test_hft_nodates.csv.gz\",index=False,compression=\"gzip\")"
   ]
  },
  {
   "cell_type": "code",
   "execution_count": null,
   "metadata": {},
   "outputs": [],
   "source": [
    "# we don't know if the test set has a temporal split, so we'll just try a random split for now\n",
    "X = train.drop([\"id\",\"date\",\"y\"],axis=1)\n",
    "y = train[\"y\"]"
   ]
  },
  {
   "cell_type": "code",
   "execution_count": null,
   "metadata": {},
   "outputs": [],
   "source": [
    "train_pool = Pool(data=X,label = y)"
   ]
  },
  {
   "cell_type": "code",
   "execution_count": null,
   "metadata": {},
   "outputs": [],
   "source": [
    "# ### hyperparameter tuning example grid for catboost : \n",
    "# grid = {'learning_rate': [0.05, 0.1],\n",
    "#         'depth': [6, 11],\n",
    "# #         'l2_leaf_reg': [1, 3,9],\n",
    "# #        \"iterations\": [1000],\n",
    "#        \"custom_metric\":['Logloss', 'AUC']}\n",
    "\n",
    "# model = CatBoostClassifier()\n",
    "\n",
    "# ## can also do randomized search - more efficient typically, especially for large search space - `randomized_search`\n",
    "# grid_search_result = model.grid_search(grid, \n",
    "#                                        train_pool,\n",
    "#                                        plot=True,\n",
    "#                                        refit = True, #  refit best model on all data\n",
    "#                                       partition_random_seed=42)\n",
    "\n",
    "# print(model.get_best_score())"
   ]
  },
  {
   "cell_type": "code",
   "execution_count": null,
   "metadata": {},
   "outputs": [],
   "source": [
    "model = CatBoostClassifier()\n",
    "\n",
    "    \n",
    "model.fit(train_pool, plot=True,silent=True)\n",
    "print(model.get_best_score())"
   ]
  },
  {
   "cell_type": "markdown",
   "metadata": {},
   "source": [
    "## Features importances\n"
   ]
  },
  {
   "cell_type": "code",
   "execution_count": null,
   "metadata": {},
   "outputs": [],
   "source": [
    "feature_importances = model.get_feature_importance(train_pool)\n",
    "feature_names = X.columns\n",
    "for score, name in sorted(zip(feature_importances, feature_names), reverse=True):\n",
    "    if score > 0.2:\n",
    "        print('{0}: {1:.2f}'.format(name, score))"
   ]
  },
  {
   "cell_type": "code",
   "execution_count": null,
   "metadata": {},
   "outputs": [],
   "source": [
    "import shap\n",
    "shap.initjs()\n",
    "\n",
    "explainer = shap.TreeExplainer(model)\n",
    "shap_values = explainer.shap_values(train_pool)\n",
    "\n",
    "# visualize the training set predictions\n",
    "# SHAP plots for all the data is very slow, so we'll only do it for a sample. Taking the head instead of a random sample is dangerous! \n",
    "shap.force_plot(explainer.expected_value,shap_values[0,:300], X.iloc[0,:300])"
   ]
  },
  {
   "cell_type": "code",
   "execution_count": null,
   "metadata": {},
   "outputs": [],
   "source": [
    "# summarize the effects of all the features\n",
    "shap.summary_plot(shap_values, X)"
   ]
  },
  {
   "cell_type": "code",
   "execution_count": null,
   "metadata": {},
   "outputs": [],
   "source": [
    "## todo : PDP features +- from shap"
   ]
  },
  {
   "cell_type": "markdown",
   "metadata": {},
   "source": [
    "## export predictions"
   ]
  },
  {
   "cell_type": "code",
   "execution_count": null,
   "metadata": {},
   "outputs": [],
   "source": [
    "test[\"Predicted\"] = model.predict(test.drop([\"id\",\"date\",\"y\"],axis=1),prediction_type='Probability')[:,1]\n",
    "test[[\"id\",\"Predicted\"]].to_csv(\"submission.csv\",index=False)"
   ]
  }
 ],
 "metadata": {
  "kernelspec": {
   "display_name": "Python 3",
   "language": "python",
   "name": "python3"
  },
  "language_info": {
   "codemirror_mode": {
    "name": "ipython",
    "version": 3
   },
   "file_extension": ".py",
   "mimetype": "text/x-python",
   "name": "python",
   "nbconvert_exporter": "python",
   "pygments_lexer": "ipython3",
   "version": "3.7.3"
  }
 },
 "nbformat": 4,
 "nbformat_minor": 4
}
