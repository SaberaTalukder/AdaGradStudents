{
 "cells": [
  {
   "cell_type": "code",
   "execution_count": 51,
   "metadata": {},
   "outputs": [],
   "source": [
    "import numpy as np\n",
    "import pandas as pd "
   ]
  },
  {
   "cell_type": "code",
   "execution_count": 120,
   "metadata": {},
   "outputs": [],
   "source": [
    "pred1 = pd.read_csv(\"submission_forest_simple_feature_engineering.csv\")\n",
    "pred2 = pd.read_csv(\"submission_test_processed_ensemble3_bs64_ne10.csv\")\n",
    "pred3 = pd.read_csv(\"submission_test_processed_ensemble2_bs64_ne10.csv\")\n",
    "pred4 = pd.read_csv(\"sabera_submission_epochs_more_layers_test_multi_4.csv\")\n",
    "pred5 = pd.read_csv(\"submission_test_processed_ensemble2_bs64_ne10_dupe.csv\")\n",
    "pred6 = pd.read_csv(\"submission_test_processed_ensemble5_bs64_ne10.csv\")\n",
    "pred7 = pd.read_csv(\"submission_test_processed_ensemble5_bs64_ne15.csv\")"
   ]
  },
  {
   "cell_type": "code",
   "execution_count": 121,
   "metadata": {},
   "outputs": [],
   "source": [
    "preds = pd.DataFrame(0, index=np.arange(len(pred1)), columns=pred1.columns)"
   ]
  },
  {
   "cell_type": "code",
   "execution_count": 122,
   "metadata": {},
   "outputs": [],
   "source": [
    "preds['id'] = pred1['id']\n",
    "preds['Predicted'] = (pred1['Predicted'] + pred2['Predicted'] + 2 * pred3['Predicted'] + pred4['Predicted'] + pred5['Predicted'] + pred6['Predicted'] + pred7['Predicted']) / 8"
   ]
  },
  {
   "cell_type": "code",
   "execution_count": 123,
   "metadata": {},
   "outputs": [],
   "source": [
    "preds.to_csv(\"submission_test_ensemble1output8.csv\", index=False)"
   ]
  },
  {
   "cell_type": "code",
   "execution_count": 124,
   "metadata": {},
   "outputs": [],
   "source": [
    "preds_read = pd.read_csv(\"submission_test_ensemble1output8.csv\")"
   ]
  },
  {
   "cell_type": "code",
   "execution_count": 125,
   "metadata": {},
   "outputs": [
    {
     "data": {
      "text/html": [
       "<div>\n",
       "<style scoped>\n",
       "    .dataframe tbody tr th:only-of-type {\n",
       "        vertical-align: middle;\n",
       "    }\n",
       "\n",
       "    .dataframe tbody tr th {\n",
       "        vertical-align: top;\n",
       "    }\n",
       "\n",
       "    .dataframe thead th {\n",
       "        text-align: right;\n",
       "    }\n",
       "</style>\n",
       "<table border=\"1\" class=\"dataframe\">\n",
       "  <thead>\n",
       "    <tr style=\"text-align: right;\">\n",
       "      <th></th>\n",
       "      <th>id</th>\n",
       "      <th>Predicted</th>\n",
       "    </tr>\n",
       "  </thead>\n",
       "  <tbody>\n",
       "    <tr>\n",
       "      <th>0</th>\n",
       "      <td>592380</td>\n",
       "      <td>0.548571</td>\n",
       "    </tr>\n",
       "    <tr>\n",
       "      <th>1</th>\n",
       "      <td>592381</td>\n",
       "      <td>0.249635</td>\n",
       "    </tr>\n",
       "    <tr>\n",
       "      <th>2</th>\n",
       "      <td>592382</td>\n",
       "      <td>0.342966</td>\n",
       "    </tr>\n",
       "    <tr>\n",
       "      <th>3</th>\n",
       "      <td>592383</td>\n",
       "      <td>0.436951</td>\n",
       "    </tr>\n",
       "    <tr>\n",
       "      <th>4</th>\n",
       "      <td>592384</td>\n",
       "      <td>0.358634</td>\n",
       "    </tr>\n",
       "    <tr>\n",
       "      <th>...</th>\n",
       "      <td>...</td>\n",
       "      <td>...</td>\n",
       "    </tr>\n",
       "    <tr>\n",
       "      <th>191854</th>\n",
       "      <td>784234</td>\n",
       "      <td>0.380039</td>\n",
       "    </tr>\n",
       "    <tr>\n",
       "      <th>191855</th>\n",
       "      <td>784235</td>\n",
       "      <td>0.189945</td>\n",
       "    </tr>\n",
       "    <tr>\n",
       "      <th>191856</th>\n",
       "      <td>784236</td>\n",
       "      <td>0.385175</td>\n",
       "    </tr>\n",
       "    <tr>\n",
       "      <th>191857</th>\n",
       "      <td>784237</td>\n",
       "      <td>0.330943</td>\n",
       "    </tr>\n",
       "    <tr>\n",
       "      <th>191858</th>\n",
       "      <td>784238</td>\n",
       "      <td>0.343348</td>\n",
       "    </tr>\n",
       "  </tbody>\n",
       "</table>\n",
       "<p>191859 rows × 2 columns</p>\n",
       "</div>"
      ],
      "text/plain": [
       "            id  Predicted\n",
       "0       592380   0.548571\n",
       "1       592381   0.249635\n",
       "2       592382   0.342966\n",
       "3       592383   0.436951\n",
       "4       592384   0.358634\n",
       "...        ...        ...\n",
       "191854  784234   0.380039\n",
       "191855  784235   0.189945\n",
       "191856  784236   0.385175\n",
       "191857  784237   0.330943\n",
       "191858  784238   0.343348\n",
       "\n",
       "[191859 rows x 2 columns]"
      ]
     },
     "execution_count": 125,
     "metadata": {},
     "output_type": "execute_result"
    }
   ],
   "source": [
    "preds_read"
   ]
  },
  {
   "cell_type": "code",
   "execution_count": null,
   "metadata": {},
   "outputs": [],
   "source": []
  }
 ],
 "metadata": {
  "kernelspec": {
   "display_name": "Python 3",
   "language": "python",
   "name": "python3"
  },
  "language_info": {
   "codemirror_mode": {
    "name": "ipython",
    "version": 3
   },
   "file_extension": ".py",
   "mimetype": "text/x-python",
   "name": "python",
   "nbconvert_exporter": "python",
   "pygments_lexer": "ipython3",
   "version": "3.7.2"
  }
 },
 "nbformat": 4,
 "nbformat_minor": 2
}
