{
 "cells": [
  {
   "cell_type": "code",
   "execution_count": 1,
   "metadata": {},
   "outputs": [],
   "source": [
    "import importlib\n",
    "import numpy as np # linear algebra\n",
    "import pandas as pd # data processing, CSV file I/O (e.g. pd.read_csv)\n",
    "\n",
    "import os\n",
    "for dirname, _, filenames in os.walk('/kaggle/input'):\n",
    "    for filename in filenames:\n",
    "        print(os.path.join(dirname, filename))\n",
    "        \n",
    "from datetime import datetime\n",
    "from scipy.special import logsumexp\n",
    "\n",
    "from catboost import Pool, cv, CatBoostClassifier, CatBoostRegressor\n",
    "from sklearn.metrics import mean_squared_error, classification_report"
   ]
  },
  {
   "cell_type": "code",
   "execution_count": 2,
   "metadata": {},
   "outputs": [
    {
     "name": "stdout",
     "output_type": "stream",
     "text": [
      "(784239, 28)\n",
      "Index(['id', 'last_price', 'mid', 'opened_position_qty ',\n",
      "       'closed_position_qty', 'transacted_qty', 'd_open_interest', 'bid1',\n",
      "       'bid2', 'bid3', 'bid4', 'bid5', 'ask1', 'ask2', 'ask3', 'ask4', 'ask5',\n",
      "       'bid1vol', 'bid2vol', 'bid3vol', 'bid4vol', 'bid5vol', 'ask1vol',\n",
      "       'ask2vol', 'ask3vol', 'ask4vol', 'ask5vol', 'y'],\n",
      "      dtype='object')\n"
     ]
    },
    {
     "data": {
      "text/html": [
       "<div>\n",
       "<style scoped>\n",
       "    .dataframe tbody tr th:only-of-type {\n",
       "        vertical-align: middle;\n",
       "    }\n",
       "\n",
       "    .dataframe tbody tr th {\n",
       "        vertical-align: top;\n",
       "    }\n",
       "\n",
       "    .dataframe thead th {\n",
       "        text-align: right;\n",
       "    }\n",
       "</style>\n",
       "<table border=\"1\" class=\"dataframe\">\n",
       "  <thead>\n",
       "    <tr style=\"text-align: right;\">\n",
       "      <th></th>\n",
       "      <th>id</th>\n",
       "      <th>last_price</th>\n",
       "      <th>mid</th>\n",
       "      <th>opened_position_qty</th>\n",
       "      <th>closed_position_qty</th>\n",
       "      <th>transacted_qty</th>\n",
       "      <th>d_open_interest</th>\n",
       "      <th>bid1</th>\n",
       "      <th>bid2</th>\n",
       "      <th>bid3</th>\n",
       "      <th>...</th>\n",
       "      <th>bid2vol</th>\n",
       "      <th>bid3vol</th>\n",
       "      <th>bid4vol</th>\n",
       "      <th>bid5vol</th>\n",
       "      <th>ask1vol</th>\n",
       "      <th>ask2vol</th>\n",
       "      <th>ask3vol</th>\n",
       "      <th>ask4vol</th>\n",
       "      <th>ask5vol</th>\n",
       "      <th>y</th>\n",
       "    </tr>\n",
       "  </thead>\n",
       "  <tbody>\n",
       "    <tr>\n",
       "      <th>191854</th>\n",
       "      <td>784234</td>\n",
       "      <td>5150.6</td>\n",
       "      <td>5150.8</td>\n",
       "      <td>NaN</td>\n",
       "      <td>NaN</td>\n",
       "      <td>0.0</td>\n",
       "      <td>0</td>\n",
       "      <td>5150.6</td>\n",
       "      <td>5150.4</td>\n",
       "      <td>5150.2</td>\n",
       "      <td>...</td>\n",
       "      <td>5</td>\n",
       "      <td>3</td>\n",
       "      <td>4</td>\n",
       "      <td>2</td>\n",
       "      <td>1</td>\n",
       "      <td>3</td>\n",
       "      <td>1</td>\n",
       "      <td>3</td>\n",
       "      <td>2</td>\n",
       "      <td>NaN</td>\n",
       "    </tr>\n",
       "    <tr>\n",
       "      <th>191855</th>\n",
       "      <td>784235</td>\n",
       "      <td>5122.6</td>\n",
       "      <td>5122.7</td>\n",
       "      <td>1.0</td>\n",
       "      <td>2.0</td>\n",
       "      <td>3.0</td>\n",
       "      <td>-1</td>\n",
       "      <td>5122.6</td>\n",
       "      <td>5122.4</td>\n",
       "      <td>5122.2</td>\n",
       "      <td>...</td>\n",
       "      <td>1</td>\n",
       "      <td>5</td>\n",
       "      <td>1</td>\n",
       "      <td>20</td>\n",
       "      <td>16</td>\n",
       "      <td>17</td>\n",
       "      <td>4</td>\n",
       "      <td>1</td>\n",
       "      <td>16</td>\n",
       "      <td>NaN</td>\n",
       "    </tr>\n",
       "    <tr>\n",
       "      <th>191856</th>\n",
       "      <td>784236</td>\n",
       "      <td>5192.8</td>\n",
       "      <td>5192.3</td>\n",
       "      <td>NaN</td>\n",
       "      <td>NaN</td>\n",
       "      <td>0.0</td>\n",
       "      <td>0</td>\n",
       "      <td>5192.0</td>\n",
       "      <td>5191.8</td>\n",
       "      <td>5191.2</td>\n",
       "      <td>...</td>\n",
       "      <td>2</td>\n",
       "      <td>1</td>\n",
       "      <td>1</td>\n",
       "      <td>1</td>\n",
       "      <td>1</td>\n",
       "      <td>2</td>\n",
       "      <td>1</td>\n",
       "      <td>2</td>\n",
       "      <td>1</td>\n",
       "      <td>NaN</td>\n",
       "    </tr>\n",
       "    <tr>\n",
       "      <th>191857</th>\n",
       "      <td>784237</td>\n",
       "      <td>5152.0</td>\n",
       "      <td>5151.9</td>\n",
       "      <td>4.0</td>\n",
       "      <td>2.0</td>\n",
       "      <td>6.0</td>\n",
       "      <td>2</td>\n",
       "      <td>5151.8</td>\n",
       "      <td>5151.6</td>\n",
       "      <td>5151.4</td>\n",
       "      <td>...</td>\n",
       "      <td>5</td>\n",
       "      <td>6</td>\n",
       "      <td>8</td>\n",
       "      <td>37</td>\n",
       "      <td>7</td>\n",
       "      <td>1</td>\n",
       "      <td>2</td>\n",
       "      <td>1</td>\n",
       "      <td>1</td>\n",
       "      <td>NaN</td>\n",
       "    </tr>\n",
       "    <tr>\n",
       "      <th>191858</th>\n",
       "      <td>784238</td>\n",
       "      <td>5200.0</td>\n",
       "      <td>5200.3</td>\n",
       "      <td>2.0</td>\n",
       "      <td>0.0</td>\n",
       "      <td>2.0</td>\n",
       "      <td>2</td>\n",
       "      <td>5200.0</td>\n",
       "      <td>5199.0</td>\n",
       "      <td>5198.8</td>\n",
       "      <td>...</td>\n",
       "      <td>5</td>\n",
       "      <td>1</td>\n",
       "      <td>2</td>\n",
       "      <td>1</td>\n",
       "      <td>1</td>\n",
       "      <td>1</td>\n",
       "      <td>4</td>\n",
       "      <td>1</td>\n",
       "      <td>3</td>\n",
       "      <td>NaN</td>\n",
       "    </tr>\n",
       "  </tbody>\n",
       "</table>\n",
       "<p>5 rows × 28 columns</p>\n",
       "</div>"
      ],
      "text/plain": [
       "            id  last_price     mid  opened_position_qty   closed_position_qty  \\\n",
       "191854  784234      5150.6  5150.8                   NaN                  NaN   \n",
       "191855  784235      5122.6  5122.7                   1.0                  2.0   \n",
       "191856  784236      5192.8  5192.3                   NaN                  NaN   \n",
       "191857  784237      5152.0  5151.9                   4.0                  2.0   \n",
       "191858  784238      5200.0  5200.3                   2.0                  0.0   \n",
       "\n",
       "        transacted_qty  d_open_interest    bid1    bid2    bid3  ...  bid2vol  \\\n",
       "191854             0.0                0  5150.6  5150.4  5150.2  ...        5   \n",
       "191855             3.0               -1  5122.6  5122.4  5122.2  ...        1   \n",
       "191856             0.0                0  5192.0  5191.8  5191.2  ...        2   \n",
       "191857             6.0                2  5151.8  5151.6  5151.4  ...        5   \n",
       "191858             2.0                2  5200.0  5199.0  5198.8  ...        5   \n",
       "\n",
       "        bid3vol  bid4vol  bid5vol  ask1vol  ask2vol  ask3vol  ask4vol  \\\n",
       "191854        3        4        2        1        3        1        3   \n",
       "191855        5        1       20       16       17        4        1   \n",
       "191856        1        1        1        1        2        1        2   \n",
       "191857        6        8       37        7        1        2        1   \n",
       "191858        1        2        1        1        1        4        1   \n",
       "\n",
       "        ask5vol   y  \n",
       "191854        2 NaN  \n",
       "191855       16 NaN  \n",
       "191856        1 NaN  \n",
       "191857        1 NaN  \n",
       "191858        3 NaN  \n",
       "\n",
       "[5 rows x 28 columns]"
      ]
     },
     "execution_count": 2,
     "metadata": {},
     "output_type": "execute_result"
    }
   ],
   "source": [
    "train = pd.read_csv(\"caltech-cs155-2020/train.csv\")\n",
    "test = pd.read_csv(\"caltech-cs155-2020/test.csv\")\n",
    "df = pd.concat([train,test],sort=False)\n",
    "print(df.shape)\n",
    "print(df.columns)\n",
    "df.tail()"
   ]
  },
  {
   "cell_type": "code",
   "execution_count": 3,
   "metadata": {},
   "outputs": [],
   "source": [
    "bid_cols = ['bid1','bid2', 'bid3', 'bid4', 'bid5']\n",
    "bid_vol_cols = ['bid1vol', 'bid2vol', 'bid3vol', 'bid4vol', 'bid5vol']\n",
    "ask_cols = ['ask1', 'ask2', 'ask3', 'ask4', 'ask5',]\n",
    "ask_vol_cols = ['ask1vol','ask2vol', 'ask3vol', 'ask4vol', 'ask5vol']\n",
    "\n",
    "group_cols = {\"bid_cols\":bid_cols,\"bid_vol_cols\":bid_vol_cols,\"ask_cols\":ask_cols,\"ask_vol_cols\":ask_vol_cols}"
   ]
  },
  {
   "cell_type": "code",
   "execution_count": 4,
   "metadata": {},
   "outputs": [
    {
     "name": "stdout",
     "output_type": "stream",
     "text": [
      "bid_cols\n",
      "bid_vol_cols\n",
      "ask_cols\n",
      "ask_vol_cols\n"
     ]
    }
   ],
   "source": [
    "for group in group_cols.keys():\n",
    "    print(group)\n",
    "    df[f\"{group}_max\"] = df[group_cols[group]].max(axis=1)\n",
    "    df[f\"{group}_min\"] = df[group_cols[group]].min(axis=1)\n",
    "    df[f\"{group}_spread\"] = df[f\"{group}_max\"].div(df[f\"{group}_min\"])\n",
    "#     df[f\"{group}_logsumexp\"] = df[grou/_cols[group]].apply(logsumexp)\n",
    "    \n",
    "    df[f\"{group}_max\"] = df[group_cols[group]].max(axis=1)\n",
    "    \n",
    "df[\"last_price_div__mid\"] = df[\"last_price\"].div(df[\"mid\"])"
   ]
  },
  {
   "cell_type": "code",
   "execution_count": 5,
   "metadata": {},
   "outputs": [
    {
     "data": {
      "text/plain": [
       "count                         784239\n",
       "unique                        784239\n",
       "top       2019-01-02 14:21:54.500000\n",
       "freq                               1\n",
       "first            2019-01-01 00:00:00\n",
       "last             2019-01-05 12:55:19\n",
       "Name: date, dtype: object"
      ]
     },
     "execution_count": 5,
     "metadata": {},
     "output_type": "execute_result"
    }
   ],
   "source": [
    "df[\"date\"] = pd.to_datetime(\"1.1.2019\")\n",
    "df[\"date\"] = df[\"date\"] + pd.to_timedelta(df[\"id\"]/2,unit=\"s\") # 500 ms per row\n",
    "\n",
    "df[\"date\"].describe()"
   ]
  },
  {
   "cell_type": "code",
   "execution_count": 6,
   "metadata": {},
   "outputs": [
    {
     "name": "stdout",
     "output_type": "stream",
     "text": [
      "train shape 592380\n",
      "test shape 191859\n"
     ]
    }
   ],
   "source": [
    "train = df.loc[~df.y.isna()]\n",
    "print(f\"train shape {train.shape[0]}\")\n",
    "test = df.loc[df.y.isna()]\n",
    "print(f\"test shape {test.shape[0]}\")"
   ]
  },
  {
   "cell_type": "code",
   "execution_count": 7,
   "metadata": {},
   "outputs": [],
   "source": [
    "train_no_nan = train.fillna(-100)\n",
    "test_no_nan = test.fillna(-100)"
   ]
  },
  {
   "cell_type": "code",
   "execution_count": 8,
   "metadata": {},
   "outputs": [],
   "source": [
    "# we don't know if the test set has a temporal split, so we'll just try a random split for now\n",
    "X = train_no_nan.drop([\"id\",\"date\",\"y\"],axis=1)\n",
    "y = train_no_nan[\"y\"]"
   ]
  },
  {
   "cell_type": "code",
   "execution_count": 11,
   "metadata": {},
   "outputs": [
    {
     "data": {
      "text/plain": [
       "(1797, 7)"
      ]
     },
     "execution_count": 11,
     "metadata": {},
     "output_type": "execute_result"
    }
   ],
   "source": [
    "from sklearn.datasets import load_digits\n",
    "from sklearn.decomposition import FactorAnalysis\n",
    "X, y = load_digits(return_X_y=True)\n",
    "transformer = FactorAnalysis(n_components=7, random_state=0)\n",
    "X_transformed = transformer.fit_transform(X)\n",
    "X_transformed.shape"
   ]
  },
  {
   "cell_type": "code",
   "execution_count": 14,
   "metadata": {},
   "outputs": [],
   "source": [
    "import torch\n",
    "import torch.nn as nn\n",
    "import second_neural_network\n",
    "importlib.reload(second_neural_network)\n",
    "model = second_neural_network.second_neural_network()"
   ]
  },
  {
   "cell_type": "code",
   "execution_count": 15,
   "metadata": {
    "scrolled": true
   },
   "outputs": [
    {
     "name": "stdout",
     "output_type": "stream",
     "text": [
      "592380\n",
      "Fold  1  of  3  test indices: [     0      1      2 ... 197457 197458 197459]\n",
      "len(val_index_list):  197460\n",
      "Train Epoch: 1  Loss: 0.5909\n",
      "Train Epoch: 2  Loss: 0.5383\n",
      "Train Epoch: 3  Loss: 0.6674\n",
      "Train Epoch: 4  Loss: 0.4663\n",
      "Train Epoch: 5  Loss: 0.6502\n",
      "validation error:  0.6590062098971942\n",
      "Fold  2  of  3  test indices: [197460 197461 197462 ... 394917 394918 394919]\n",
      "len(val_index_list):  197460\n",
      "Train Epoch: 1  Loss: 0.5852\n",
      "Train Epoch: 2  Loss: 0.4031\n",
      "Train Epoch: 3  Loss: 0.6769\n",
      "Train Epoch: 4  Loss: 0.6574\n",
      "Train Epoch: 5  Loss: 0.7589\n",
      "validation error:  0.663256464614485\n",
      "Fold  3  of  3  test indices: [394920 394921 394922 ... 592377 592378 592379]\n",
      "len(val_index_list):  197460\n",
      "Train Epoch: 1  Loss: 0.4901\n",
      "Train Epoch: 2  Loss: 0.4033\n",
      "Train Epoch: 3  Loss: 0.7459\n",
      "Train Epoch: 4  Loss: 0.8181\n",
      "Train Epoch: 5  Loss: 0.5539\n",
      "validation error:  0.6532735166987764\n",
      "(0.6585120637368186, 1.673196506186521e-05, [0.6590062098971942, 0.663256464614485, 0.6532735166987764])\n"
     ]
    }
   ],
   "source": [
    "import get_average_val_err\n",
    "\n",
    "importlib.reload(get_average_val_err)\n",
    "\n",
    "print(get_average_val_err.get_val_err(3, train_no_nan, model))"
   ]
  },
  {
   "cell_type": "code",
   "execution_count": 23,
   "metadata": {},
   "outputs": [
    {
     "name": "stderr",
     "output_type": "stream",
     "text": [
      "/anaconda3/lib/python3.7/site-packages/ipykernel_launcher.py:1: SettingWithCopyWarning: \n",
      "A value is trying to be set on a copy of a slice from a DataFrame.\n",
      "Try using .loc[row_indexer,col_indexer] = value instead\n",
      "\n",
      "See the caveats in the documentation: https://pandas.pydata.org/pandas-docs/stable/user_guide/indexing.html#returning-a-view-versus-a-copy\n",
      "  \"\"\"Entry point for launching an IPython kernel.\n"
     ]
    }
   ],
   "source": [
    "test[\"Predicted\"] = model.predict(test_no_nan.drop([\"id\",\"date\",\"y\"],axis=1))\n",
    "test[[\"id\",\"Predicted\"]].to_csv(\"submission_test_second_neural_network1.csv\",index=False)"
   ]
  }
 ],
 "metadata": {
  "kernelspec": {
   "display_name": "Python 3",
   "language": "python",
   "name": "python3"
  },
  "language_info": {
   "codemirror_mode": {
    "name": "ipython",
    "version": 3
   },
   "file_extension": ".py",
   "mimetype": "text/x-python",
   "name": "python",
   "nbconvert_exporter": "python",
   "pygments_lexer": "ipython3",
   "version": "3.7.2"
  }
 },
 "nbformat": 4,
 "nbformat_minor": 2
}
